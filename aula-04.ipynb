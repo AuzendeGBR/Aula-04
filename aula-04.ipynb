{
 "cells": [
  {
   "cell_type": "code",
   "execution_count": 13,
   "metadata": {},
   "outputs": [
    {
     "name": "stdout",
     "output_type": "stream",
     "text": [
      "O valor digitado foi: 15\n"
     ]
    }
   ],
   "source": [
    "valor1 = input('digite um numero inteiro') \n",
    "\n",
    "print (\"O valor digitado foi:\", valor1)\n"
   ]
  },
  {
   "cell_type": "code",
   "execution_count": 4,
   "metadata": {},
   "outputs": [
    {
     "name": "stdout",
     "output_type": "stream",
     "text": [
      "A soma dos valores é: 40\n"
     ]
    }
   ],
   "source": [
    "valor1 = int (input(\"Digite um número\"))\n",
    "\n",
    "valor2 = int (input(\"Digite outro número \"))\n",
    "\n",
    "resultado = valor1 + valor2\n",
    "\n",
    "print (\"A soma dos valores é:\", resultado)"
   ]
  },
  {
   "cell_type": "code",
   "execution_count": 8,
   "metadata": {},
   "outputs": [
    {
     "name": "stdout",
     "output_type": "stream",
     "text": [
      "A média dos valores é: 100\n"
     ]
    }
   ],
   "source": [
    "Valor1= int(input(\"Digite um número \"))\n",
    "\n",
    "Valor2= int(input(\"Digite um número \"))\n",
    "\n",
    "Valor3= int(input(\"Digite um número \"))\n",
    "\n",
    "média= valor1+valor2+Valor3\n",
    "\n",
    "média / 3\n",
    "\n",
    "print(\"A média dos valores é:\", média)"
   ]
  },
  {
   "cell_type": "code",
   "execution_count": 10,
   "metadata": {},
   "outputs": [
    {
     "name": "stdout",
     "output_type": "stream",
     "text": [
      "O seu salário é: 450000.0\n"
     ]
    }
   ],
   "source": [
    "#Quanto ganha por hora trabalhada.\n",
    "\n",
    "salarioH = float (input(\"Quantas horas você trabalhou por mes?\"))\n",
    "\n",
    "#Quantas horas Trabalhada.\n",
    "\n",
    "salarioQTD = float (input(\"Quantas horas você trabalhou por mes?\"))\n",
    "\n",
    "#Salário mensal \n",
    "\n",
    "Salario = salarioH * salarioQTD\n",
    "\n",
    "#Salário mensal texto.\n",
    "\n",
    "print(\"O seu salário é:\", Salario)\n"
   ]
  },
  {
   "cell_type": "code",
   "execution_count": 5,
   "metadata": {},
   "outputs": [
    {
     "name": "stdout",
     "output_type": "stream",
     "text": [
      "Você não pagará multa.\n"
     ]
    }
   ],
   "source": [
    "pesopeixe = float(input(\"quantos quilos de peixe você pescou?:\"));\n",
    "\n",
    "valormulta = 4\n",
    "\n",
    "if pesopeixe > 50:print (\"Você pagará uma multa de:\"), (valormulta * (pesopeixe -50))\n",
    "                        \n",
    "else:print(\"Você não pagará multa.\");"
   ]
  }
 ],
 "metadata": {
  "kernelspec": {
   "display_name": "Python 3",
   "language": "python",
   "name": "python3"
  },
  "language_info": {
   "name": "python",
   "version": "3.10.2"
  }
 },
 "nbformat": 4,
 "nbformat_minor": 2
}
